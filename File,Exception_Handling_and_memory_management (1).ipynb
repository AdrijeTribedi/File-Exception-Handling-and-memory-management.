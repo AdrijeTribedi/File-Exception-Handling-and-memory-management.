{
  "nbformat": 4,
  "nbformat_minor": 0,
  "metadata": {
    "colab": {
      "provenance": []
    },
    "kernelspec": {
      "name": "python3",
      "display_name": "Python 3"
    },
    "language_info": {
      "name": "python"
    }
  },
  "cells": [
    {
      "cell_type": "markdown",
      "source": [
        "**Files, exceptional handling, logging and memory management Questions**"
      ],
      "metadata": {
        "id": "aocTndtuS79r"
      }
    },
    {
      "cell_type": "markdown",
      "source": [
        "1. What is the difference between interpreted and compiled languages?"
      ],
      "metadata": {
        "id": "65QqBnGxTM3c"
      }
    },
    {
      "cell_type": "markdown",
      "source": [
        "- The main difference between interpreted and compiled programming language is of the execution process,here are some difference between them\n",
        "- Complied language need a compilation process to convert main code to machine code(binary code) and then the code get executed,but a interpreter language do not need any complier the code get executed line by line by an interpreter.\n",
        "- complied language need a .exe file for the compilation process,interpreted language do not need any .exe file.\n",
        "- generally complied languages are more faster than interpreted language.\n",
        "- some example of complied language are C,C++,C# etc, and some example of interpreted language are Python,Javascript,Ruby etc."
      ],
      "metadata": {
        "id": "Kr5_BQbETsCs"
      }
    },
    {
      "cell_type": "markdown",
      "source": [
        "2.  What is exception handling in Python?"
      ],
      "metadata": {
        "id": "ccZ9eT7KXggo"
      }
    },
    {
      "cell_type": "markdown",
      "source": [
        "- Exception Handling in Python is a mechansim to manage error that occur during the execution of program.It allows the program to continue ranning even if a error occurs,by catching and handling the error gracefully.\n",
        "- The key words that are used in exception handling are :\n",
        "   - try\n",
        "   - except\n",
        "   - else(optional)\n",
        "   - finally(optional)"
      ],
      "metadata": {
        "id": "5bgxgXf4Xphz"
      }
    },
    {
      "cell_type": "markdown",
      "source": [
        " 3. What is the purpose of the finally block in exception handling?"
      ],
      "metadata": {
        "id": "zswqgptUbXAy"
      }
    },
    {
      "cell_type": "markdown",
      "source": [
        "- In excetion handling finally block will always be executed no matter the try block contains a exception or not.The main purpose of finally block is use of clearup actions such as closing the file,realising resources performaing any finallization task."
      ],
      "metadata": {
        "id": "SfHxEUskbfUG"
      }
    },
    {
      "cell_type": "code",
      "source": [
        "#example:\n",
        "try:\n",
        "  p = open(\"file.txt\",\"w\")\n",
        "  p.write(\"This a line inside a code\")\n",
        "except Exception as e:\n",
        "  print(e)\n",
        "finally:\n",
        "  p.close()"
      ],
      "metadata": {
        "id": "PnNpb0keerEb"
      },
      "execution_count": null,
      "outputs": []
    },
    {
      "cell_type": "markdown",
      "source": [
        "4.  What is logging in Python?\n"
      ],
      "metadata": {
        "id": "IS8YPzAyfM3H"
      }
    },
    {
      "cell_type": "markdown",
      "source": [
        "- Logging in Python is a mechanism for tarcking events that occurs during the execution of the program.It helps to debug,monitoring and analysing the behavior of the software,there are five levels of logging module and they are :\n",
        " - DEBUG\n",
        " - INFO\n",
        " - WARNING\n",
        " - ERROR\n",
        " - CRITICAL"
      ],
      "metadata": {
        "id": "Dnr_CQQtf76D"
      }
    },
    {
      "cell_type": "markdown",
      "source": [
        "5.  What is the significance of the `__del__` method in Python?"
      ],
      "metadata": {
        "id": "gMIgNhb1hcEm"
      }
    },
    {
      "cell_type": "markdown",
      "source": [
        "The `__del__` method in python is a special method that serves as a destructor for a class.It is automatically called when a object is about to destroyed,typically when the objects referance count comes to zero.\n",
        "- Syntax - The `__del__` method is defined in a class it take self as only argument,it does not return any value."
      ],
      "metadata": {
        "id": "HNPpfl4HhnY3"
      }
    },
    {
      "cell_type": "code",
      "source": [
        "class Myclass:\n",
        "  def __init__(self):\n",
        "    print(\"Object created\")\n",
        "  def __del__(self):\n",
        "    print(\"Object destroyed\")"
      ],
      "metadata": {
        "id": "YhVYols9kkje"
      },
      "execution_count": null,
      "outputs": []
    },
    {
      "cell_type": "markdown",
      "source": [
        "6.\n",
        " What is the difference between import and from ... import in Python?"
      ],
      "metadata": {
        "id": "-AvKBd2LlMVR"
      }
    },
    {
      "cell_type": "markdown",
      "source": [
        "- The differences between import and from ... import .... in python are:\n",
        "- When we use import the typically want to call the module and when we use from .. import .. we can to import any of the class,function inside the module.\n",
        "- As we import a module we have to use it as a prefix with the function or class,but if we import class or function from a module we don't need to specify the module as a prefix.\n",
        "- By importing module code become breef and harder to understand,by importing classes and functions from module makes the code consise and easy to understand.\n",
        "- By importing the hole module we can use all the classes and functions inside it,but by import a single class or function we can only use that class or function in the code.  "
      ],
      "metadata": {
        "id": "54GNKBEolXJa"
      }
    },
    {
      "cell_type": "markdown",
      "source": [
        "7.  How can you handle multiple exceptions in Python?"
      ],
      "metadata": {
        "id": "N5c2p7ewpblK"
      }
    },
    {
      "cell_type": "markdown",
      "source": [
        "There are several ways of multiple exceptions\n",
        "- Using Tuple of exception-\n",
        "   - We can use multiple exceptions in a tuple and only one except block is required,it is useful when we want to handle multiple exception in same way\n"
      ],
      "metadata": {
        "id": "bedWaFn-plYJ"
      }
    },
    {
      "cell_type": "code",
      "source": [
        "#example\n",
        "try:\n",
        "  10/0\n",
        "except(ZeroDivisionError,ValueError) as e:\n",
        "  print(\"The error is\",e)"
      ],
      "metadata": {
        "colab": {
          "base_uri": "https://localhost:8080/"
        },
        "id": "WpsMNeQ4uWj9",
        "outputId": "bc0479b3-03cd-405d-96f3-d5f2e7164fc8"
      },
      "execution_count": null,
      "outputs": [
        {
          "output_type": "stream",
          "name": "stdout",
          "text": [
            "The error is division by zero\n"
          ]
        }
      ]
    },
    {
      "cell_type": "markdown",
      "source": [
        "- Using multiple except block -\n",
        "   - We can use multiple except block to specify each exceptions seperatly"
      ],
      "metadata": {
        "id": "DMrvBCEKvHPR"
      }
    },
    {
      "cell_type": "code",
      "source": [
        "#example\n",
        "try:\n",
        "  10/0\n",
        "except ZeroDivisionError as e:\n",
        "  print(\"The error is\",e)\n",
        "except ValueError as e:\n",
        "  print(\"The error is\",e)"
      ],
      "metadata": {
        "colab": {
          "base_uri": "https://localhost:8080/"
        },
        "id": "iulb5uW-vuA1",
        "outputId": "5c9f142a-3635-449f-cb52-08251004bdb5"
      },
      "execution_count": null,
      "outputs": [
        {
          "output_type": "stream",
          "name": "stdout",
          "text": [
            "The error is division by zero\n"
          ]
        }
      ]
    },
    {
      "cell_type": "markdown",
      "source": [
        "- Using list of exceptions -\n",
        "  - It is similar to tuple of exception and it works same as tuple of exception."
      ],
      "metadata": {
        "id": "o_HYFzsfv-5-"
      }
    },
    {
      "cell_type": "markdown",
      "source": [
        "- Using the basic exception block -\n",
        "   - We can use exception class it handling the exception by it is not recommended because some time it is harder to correct exception for handling the error."
      ],
      "metadata": {
        "id": "QP0vzA64z_Mc"
      }
    },
    {
      "cell_type": "code",
      "source": [
        "try:\n",
        "  10/0\n",
        "except Exception as e:\n",
        "  print(f\"The error is : {e}\")"
      ],
      "metadata": {
        "colab": {
          "base_uri": "https://localhost:8080/"
        },
        "id": "oNrXMKF-1CKF",
        "outputId": "ce341090-3534-45de-dbe4-611b0ad3ebed"
      },
      "execution_count": null,
      "outputs": [
        {
          "output_type": "stream",
          "name": "stdout",
          "text": [
            "The error is : division by zero\n"
          ]
        }
      ]
    },
    {
      "cell_type": "markdown",
      "source": [
        "8.  What is the purpose of the with statement when handling files in Python ?"
      ],
      "metadata": {
        "id": "3JD6f16y1mni"
      }
    },
    {
      "cell_type": "markdown",
      "source": [
        "In Python with statement is used to resoure management and exception handling,particularly when working with files.\n",
        "- resoure management - when a file is opened with with statement we don't to close the file it atuomatically manages all the resoures and also closes the file without the .close() statement.\n",
        "- exception handling - The with statement simplifies exception handling by encapculating the setup of the resourse,the with statement atuomatically call the `__exit__` statement to check if all the files are properly closed and every resorses are properly closed or not."
      ],
      "metadata": {
        "id": "npHOhMdv1sRC"
      }
    },
    {
      "cell_type": "code",
      "source": [
        "with open(\"x.txt\",\"w\") as f:\n",
        "  f.write(\"This file is from with statement\")\n"
      ],
      "metadata": {
        "id": "ePKfATT11rnR"
      },
      "execution_count": null,
      "outputs": []
    },
    {
      "cell_type": "markdown",
      "source": [
        "9.  What is the difference between multithreading and multiprocessing?"
      ],
      "metadata": {
        "id": "vxNWw6rAwstx"
      }
    },
    {
      "cell_type": "markdown",
      "source": [
        "Here are some difference between multiprocessing and multithreading.\n",
        "- multithreading works in multiple threads and in a single processor,but multiprocessing works in multiple processors.\n",
        "- multithreading is used for I/O bounded task and multiprocessing is used for CPU bounded task.\n",
        "- multithreading has GIL(Global Interpreter Lock) so it works concurrently and it does not follow true parallism,but multiprocessing does not have such as limitation so it follows true parallism.\n",
        "- Multithreading works on a single thread so it occupy less memory space,mutiprocessing works on multiple processor so it take more memory space than multithreading"
      ],
      "metadata": {
        "id": "qGH_jiw2xIQx"
      }
    },
    {
      "cell_type": "markdown",
      "source": [
        "10.  What are the advantages of using logging in a program?"
      ],
      "metadata": {
        "id": "D40f0Kxv0Al5"
      }
    },
    {
      "cell_type": "markdown",
      "source": [
        "Using logging statement in a program has several benifits,espacilly in software development and system administration, here are some of the key point of adventages of logging.\n",
        "  - Enhanced trobleshooting and debugging.\n",
        "  - Robust Performance Monitoring.\n",
        "  - Efficient resorurce optimization.\n",
        "  - Historical records.\n",
        "  - Security and complication.\n",
        "- and there are several of advantages in logging.\n",
        "\n"
      ],
      "metadata": {
        "id": "04ZebSFk0K9e"
      }
    },
    {
      "cell_type": "markdown",
      "source": [
        "11.  What is memory management in Python?"
      ],
      "metadata": {
        "id": "QQT3LFO-4n1R"
      }
    },
    {
      "cell_type": "markdown",
      "source": [
        "Memory management in Python involves allocation and deallocation of memory to store and manage data during program execution.\n",
        "- Memory Allocation- Python uses private heaps to store all the objects and data structure.The memory manager handles alloction and deallocation of the memory dynamically.There are two types of allocation static memory allocation and dynamic memory allocation.\n",
        "- Memory Deallocation - Python handles memory deallocation through the combination of reference counting and garbage collection."
      ],
      "metadata": {
        "id": "iCF9k4KG4zFa"
      }
    },
    {
      "cell_type": "markdown",
      "source": [
        "12.  What are the basic steps involved in exception handling in Python?"
      ],
      "metadata": {
        "id": "mcYmwIIx-jK7"
      }
    },
    {
      "cell_type": "markdown",
      "source": [
        "The basic steps involved in exception handling in python are followed by:\n",
        "- `try` block:The try block is used to enclose the code that might raise a exception.Python attempts to execute this block of code,if try block raises an exception it is tranpered to the corresponding except block.\n",
        "- `except` block:The except block handles the exception that raised in the try block.We can specify the exception in the except block or we can use generic exception.But specifying the exception is more recommended for better calaraty and control.\n",
        "- `else` block(optional):The else block will be executed when no exception raises in the try block,it is basically used for clearup actions like closing the file and managing resources.\n",
        "- `finally` block:The finally block executes always no matter whether an exception raises in the try block or not.It is also used for finallization task like clearup action."
      ],
      "metadata": {
        "id": "WmaIR7ow-rup"
      }
    },
    {
      "cell_type": "markdown",
      "source": [
        "13.  Why is memory management important in Python?"
      ],
      "metadata": {
        "id": "kfCvSE6uEY24"
      }
    },
    {
      "cell_type": "markdown",
      "source": [
        "Memory management in Python is essential to ensure efficient use of resorce,prevent memory leaks,handle large scale application,optimizating resource usage,maintain stability and reliability,enhance user experence and support scalability."
      ],
      "metadata": {
        "id": "9hwMhLdLEqF2"
      }
    },
    {
      "cell_type": "markdown",
      "source": [
        " 14. What is the role of try and except in exception handling?"
      ],
      "metadata": {
        "id": "jBgp48daKpvf"
      }
    },
    {
      "cell_type": "markdown",
      "source": [
        "The try and except blocks are the fundamental components of Python's exception handling, the role of try and except block are followed below:\n",
        "- try:The try block is used to enclose code that might raise a error.It is a protactive layer that monitors the enclosed code for any exception.We place a code that potiantialy cause an error.The error is transpered to the except block\n",
        "- except: The except block catch the exception occured in the try block and handles the exception without throwing any error."
      ],
      "metadata": {
        "id": "CLkmMvRrLE53"
      }
    },
    {
      "cell_type": "markdown",
      "source": [
        "15.  How does Python's garbage collection system work?"
      ],
      "metadata": {
        "id": "yfcNrlX9aXEd"
      }
    },
    {
      "cell_type": "markdown",
      "source": [
        "Python's garbage collection system combines reference counting and generational garbage collection to manage memory efficiently.Reference counting handles most memory deallocation,while the generational garbage collector optimizes the process by focusing on the younger generation.The cyclic garbage collector detects amd break the reference cycles,ensuring that the memory is freed even the circular reference is present.The system allows python to manage memory automatically,freeing the developers focus on the application,rather than of managing the memory."
      ],
      "metadata": {
        "id": "EmJpPtXaayyF"
      }
    },
    {
      "cell_type": "markdown",
      "source": [
        "16.  What is the purpose of the else block in exception handling?"
      ],
      "metadata": {
        "id": "6cX2OGPMOxte"
      }
    },
    {
      "cell_type": "markdown",
      "source": [
        "- The else block is an optional block in exception handling.It is executed when no exception occurs in the try block,It is used for clearup actions like closing files,managing resourses and more like that."
      ],
      "metadata": {
        "id": "8kT_OpLgO8nN"
      }
    },
    {
      "cell_type": "markdown",
      "source": [
        "17.  What are the common logging levels in Python?"
      ],
      "metadata": {
        "id": "qqx-pWyXPqui"
      }
    },
    {
      "cell_type": "markdown",
      "source": [
        "There are five common logging level in python and they are:\n",
        "- DEBUG: It is the lowest logging level in python,this block is used for detailed informtion for the user interest,also used of diagonasis problem.\n",
        "- INFO: It is used when there is not any problem with the program and the progam is executed properly executed.\n",
        "- WARNING: It is used when the program has execued properly by if there is some meassing of data.\n",
        "- ERROR: It is generated when something unexpected happend in the program and the code is not get executed.\n",
        "- CRITICAL: It is used when the program gets terminated and program get stoped."
      ],
      "metadata": {
        "id": "i-rJxbcIQ71r"
      }
    },
    {
      "cell_type": "markdown",
      "source": [
        "18. What is the difference between os.fork() and multiprocessing in Python?"
      ],
      "metadata": {
        "id": "T6s9ZIPjS5ZE"
      }
    },
    {
      "cell_type": "markdown",
      "source": [
        "- The os.fork is low-level system call for creating new processes,multiprocessing provides high-level,cross-platfrom API for process management.\n",
        "- os.frok is used only in Unix-based system,multiprocessing is used in both unix-based system and windows.\n",
        "- os.fork is fast but probelmetic in multithreaded enviroument due to resource inheretence,multiprocessing offers better probility and advanced features for IPC and resource management."
      ],
      "metadata": {
        "id": "BjrtBiw5TzQL"
      }
    },
    {
      "cell_type": "markdown",
      "source": [
        "19.  What is the importance of closing a file in Python?"
      ],
      "metadata": {
        "id": "ff63FetvKOVY"
      }
    },
    {
      "cell_type": "markdown",
      "source": [
        "There are several essencial reasons for closing a file like resourse management, it ensures that no data leaks from the file and no one can modify the file after it is closed,it is also used for data integrity,file loking and also for best parctices."
      ],
      "metadata": {
        "id": "_g094LKxKO64"
      }
    },
    {
      "cell_type": "markdown",
      "source": [
        "20.  What is the difference between file.read() and file.readline() in Python?"
      ],
      "metadata": {
        "id": "ZQXYECgBNGQR"
      }
    },
    {
      "cell_type": "markdown",
      "source": [
        "- file.read() is used to read the entire context of the file and return a single string,if a size parameter is provided it reads upto that much bytes only;file.read() is used to read only one line of the context,we can read the next line by calling the function again.\n",
        "- file.read() is sutiable for reading small-medium sized file where the entire context can be processed at once,file.readline() is sutibale for reading large sized file where all the context can not be processed at once."
      ],
      "metadata": {
        "id": "MrcitC8CNGT_"
      }
    },
    {
      "cell_type": "code",
      "source": [
        "#exaple of file.read()\n",
        "file = open(\"file.txt\",\"w\")\n",
        "file.write(\"This is the first line\\n\")\n",
        "file.write(\"This the second line\\n\")\n",
        "file.write(\"This is the thrid line\\n\")\n",
        "file.close()"
      ],
      "metadata": {
        "id": "1gbjOWXKTEwA"
      },
      "execution_count": null,
      "outputs": []
    },
    {
      "cell_type": "code",
      "source": [
        "file = open(\"file.txt\",\"r\")\n",
        "print(file.read())\n",
        "file.close()"
      ],
      "metadata": {
        "colab": {
          "base_uri": "https://localhost:8080/"
        },
        "id": "DfYYH6DBUApp",
        "outputId": "8386a30d-3d1f-4bd5-bbcb-66e644790925"
      },
      "execution_count": null,
      "outputs": [
        {
          "output_type": "stream",
          "name": "stdout",
          "text": [
            "This is the first line\n",
            "This the second line\n",
            "This is the thrid line\n",
            "\n"
          ]
        }
      ]
    },
    {
      "cell_type": "code",
      "source": [
        "file = open(\"file.txt\",\"r\")\n",
        "print(file.readline())\n",
        "file.close()"
      ],
      "metadata": {
        "colab": {
          "base_uri": "https://localhost:8080/"
        },
        "id": "0GWBpCu5UnBV",
        "outputId": "da92ce61-5fd5-4344-b605-807e52a00616"
      },
      "execution_count": null,
      "outputs": [
        {
          "output_type": "stream",
          "name": "stdout",
          "text": [
            "This is the first line\n",
            "\n"
          ]
        }
      ]
    },
    {
      "cell_type": "markdown",
      "source": [
        "21.  What is the logging module in Python used for?"
      ],
      "metadata": {
        "id": "ApokAdeAV-_3"
      }
    },
    {
      "cell_type": "markdown",
      "source": [
        "Logging in python is a powerful tool to managing and monitoring our application log's.It provieds a flexible and structured apporch to logging,It allows us to record and analyze virious type of information during program excution.By using logging module we can improve our maintainablilty,flexability and context of log message compered to print statement."
      ],
      "metadata": {
        "id": "2wFXtcBWWNqh"
      }
    },
    {
      "cell_type": "markdown",
      "source": [
        "22. What is the os module in Python used for in file handling?"
      ],
      "metadata": {
        "id": "qv0oZA7bY6RE"
      }
    },
    {
      "cell_type": "markdown",
      "source": [
        "The os module in python is a standard libary it provides the way to interact with the operating system.It is essential for perfroming various file-directory operations,process management and other system related task.The various use of are below followed by:\n",
        "- Creating and deleting file and directory.\n",
        "- Nevegation and manupulation path.\n",
        "- Renaming files and directories.\n",
        "- Listing diratory contents.\n",
        "- Changing the current working directors.\n",
        "- Excepion Handling."
      ],
      "metadata": {
        "id": "IFIP-tRIZLzf"
      }
    },
    {
      "cell_type": "markdown",
      "source": [
        "23.  What are the challenges associated with memory management in Python?"
      ],
      "metadata": {
        "id": "MEg_9euYdO67"
      }
    },
    {
      "cell_type": "markdown",
      "source": [
        "Memory management system presents several of challanges due to automatic memory management.It involves with reference counting,garbage collection.The challanges are:\n",
        "- Circular reference counting.\n",
        "- Garbage collection overhead.\n",
        "- Memory Leaks.\n",
        "- Memory freagment.\n",
        "- Global Interpreter Lock(GIL).\n",
        "- Manual Memory Management .\n",
        "- Profiling and Optimization."
      ],
      "metadata": {
        "id": "ahkMypCXiSYn"
      }
    },
    {
      "cell_type": "markdown",
      "source": [
        "24.  How do you raise an exception manually in Python?"
      ],
      "metadata": {
        "id": "NaPoikFfoHgt"
      }
    },
    {
      "cell_type": "markdown",
      "source": [
        "- Manully raising an exception in python is done using a raise statement followed by exception type and an optional error message.It allows us to control the flow of our program and handle errors in a more control manner.It is a good practice to raise exception in an exceptional circumstances and to use standard python control structure for ragular error handling."
      ],
      "metadata": {
        "id": "H1NaddFf6yqg"
      }
    },
    {
      "cell_type": "markdown",
      "source": [
        "25.  Why is it important to use multithreading in certain applications?"
      ],
      "metadata": {
        "id": "xJapuqOw8mTk"
      }
    },
    {
      "cell_type": "markdown",
      "source": [
        "Multithreading is essential for creating applications because it imporves performance,responsivenses,resourse utilization,enhanced sacalablilty,simplifies program structure,supports real time processing,ensure more efficient CPU use.This benefits make multithreading a powerful tool for creating faster,more efficinet,user friendly application"
      ],
      "metadata": {
        "id": "dv4HXz-S8wvU"
      }
    },
    {
      "cell_type": "markdown",
      "source": [
        "**Practical Questions**"
      ],
      "metadata": {
        "id": "xAu7o2KiDVxl"
      }
    },
    {
      "cell_type": "markdown",
      "source": [
        "1.  How can you open a file for writing in Python and write a string to it?"
      ],
      "metadata": {
        "id": "aFKYJ7KEDoN_"
      }
    },
    {
      "cell_type": "code",
      "source": [
        "file = open(\"file.txt\",\"w\")\n",
        "file.write(\"This is the first line in file handling\")\n",
        "file.close()"
      ],
      "metadata": {
        "id": "Ee1bQTooEv44"
      },
      "execution_count": null,
      "outputs": []
    },
    {
      "cell_type": "markdown",
      "source": [
        "2. Write a Python program to read the contents of a file and print each line?"
      ],
      "metadata": {
        "id": "ODHAtwpHFV41"
      }
    },
    {
      "cell_type": "code",
      "source": [
        "file = open(\"file1.txt\",\"w\")\n",
        "file.write(\"This is the first line in file handling\\n\")\n",
        "file.write(\"This is the second line in file handling\\n\")\n",
        "file.write(\"This is the thrid line in file handling\\n\")\n",
        "file.close()"
      ],
      "metadata": {
        "id": "1U-4xj6CFYZt"
      },
      "execution_count": null,
      "outputs": []
    },
    {
      "cell_type": "code",
      "source": [
        "file = open(\"file1.txt\",\"r\")\n",
        "print(file.read())\n",
        "file.close()"
      ],
      "metadata": {
        "colab": {
          "base_uri": "https://localhost:8080/"
        },
        "id": "mhTiDdSpGHpY",
        "outputId": "5404cd3d-c128-4f4d-bb8d-68f352a24b27"
      },
      "execution_count": null,
      "outputs": [
        {
          "output_type": "stream",
          "name": "stdout",
          "text": [
            "This is the first line in file handling\n",
            "This is the second line in file handling\n",
            "This is the thrid line in file handling\n",
            "\n"
          ]
        }
      ]
    },
    {
      "cell_type": "markdown",
      "source": [
        "3.  How would you handle a case where the file doesn't exist while trying to open it for reading?"
      ],
      "metadata": {
        "id": "G4XPh5tcG2qt"
      }
    },
    {
      "cell_type": "code",
      "source": [
        "try:\n",
        "  file = open(\"file2.txt\",\"r\")\n",
        "  file.read()\n",
        "except FileNotFoundError as e:\n",
        "  print(\"The error is\",e)"
      ],
      "metadata": {
        "colab": {
          "base_uri": "https://localhost:8080/"
        },
        "id": "rBwppMQGHGS6",
        "outputId": "563377df-3327-4c2f-f2f1-01ce48fdd793"
      },
      "execution_count": null,
      "outputs": [
        {
          "output_type": "stream",
          "name": "stdout",
          "text": [
            "The error is [Errno 2] No such file or directory: 'file2.txt'\n"
          ]
        }
      ]
    },
    {
      "cell_type": "markdown",
      "source": [
        "4. Write a Python script that reads from one file and writes its content to another file?"
      ],
      "metadata": {
        "id": "yEfXpJvWH_vq"
      }
    },
    {
      "cell_type": "code",
      "source": [
        "with open(\"source.txt\",\"w\") as file:\n",
        "  file.write(\"This is the first line in file handling\\n\")\n",
        "  file.write(\"This is the second line in file handling\\n\")\n",
        "  file.write(\"This is the thrid line in file handling\\n\")"
      ],
      "metadata": {
        "id": "nRDX_Zz9IMAF"
      },
      "execution_count": null,
      "outputs": []
    },
    {
      "cell_type": "code",
      "source": [
        "with open(\"destination.txt\",\"w\") as f:\n",
        "  pass"
      ],
      "metadata": {
        "id": "d2v-tacMJ9KM"
      },
      "execution_count": null,
      "outputs": []
    },
    {
      "cell_type": "code",
      "source": [
        "source_file = \"source.txt\"\n",
        "destination_file = \"destination.txt\"\n",
        "\n",
        "try:\n",
        "   with open(source_file,\"r\") as f1:\n",
        "     content = f1.read()\n",
        "\n",
        "   with open(destination_file,\"w\") as f2:\n",
        "     f2.write(content)\n",
        "     print(f\"The text of {source_file} is transfered to {destination_file} successfully\")\n",
        "except FileNotFoundError as e:\n",
        "  print(\"The error is\",e)"
      ],
      "metadata": {
        "colab": {
          "base_uri": "https://localhost:8080/"
        },
        "id": "D-M6PBW_K3HR",
        "outputId": "78cee947-ff1d-4ad0-ca09-c9762703a6ae"
      },
      "execution_count": null,
      "outputs": [
        {
          "output_type": "stream",
          "name": "stdout",
          "text": [
            "The text of source.txt is transfered to destination.txt successfully\n"
          ]
        }
      ]
    },
    {
      "cell_type": "markdown",
      "source": [
        "5.  How would you catch and handle division by zero error in Python?"
      ],
      "metadata": {
        "id": "SYLaoHScMWXb"
      }
    },
    {
      "cell_type": "code",
      "source": [
        "try:\n",
        "  10/0\n",
        "except Exception as e:\n",
        "  print(f\"The number can not be divided by zero : {e}\")"
      ],
      "metadata": {
        "colab": {
          "base_uri": "https://localhost:8080/"
        },
        "id": "4ukgRuOkMWvP",
        "outputId": "40a9f81f-90f5-4da7-9250-95f2a757222b"
      },
      "execution_count": null,
      "outputs": [
        {
          "output_type": "stream",
          "name": "stdout",
          "text": [
            "The number can not be divided by zero : division by zero\n"
          ]
        }
      ]
    },
    {
      "cell_type": "code",
      "source": [
        "#or\n",
        "try:\n",
        "  10/0\n",
        "except ZeroDivisionError as e:\n",
        "  print(f\"The number can not be divided by zero : {e}\")"
      ],
      "metadata": {
        "colab": {
          "base_uri": "https://localhost:8080/"
        },
        "id": "rl56B6zjM4G3",
        "outputId": "a86a5933-4f4c-41c7-b09e-ad33d64b8ebb"
      },
      "execution_count": null,
      "outputs": [
        {
          "output_type": "stream",
          "name": "stdout",
          "text": [
            "The number can not be divided by zero : division by zero\n"
          ]
        }
      ]
    },
    {
      "cell_type": "markdown",
      "source": [
        "6. Write a Python program that logs an error message to a log file when a division by zero exception occurs?"
      ],
      "metadata": {
        "id": "6e9qX0N2NDXV"
      }
    },
    {
      "cell_type": "code",
      "source": [
        "import logging\n",
        "\n",
        "logging.basicConfig(filename = \"error.log\",level = logging.ERROR,format = \"%(asctime)s::%(levelname)s::%(message)s\")\n",
        "\n",
        "\n",
        "def divide(a,b):\n",
        "  try:\n",
        "      result =  a/b\n",
        "  except ZeroDivisionError as e:\n",
        "    logging.error(f\"The number is not divisible by zero : {e}\")\n",
        "  else:\n",
        "    print(result)\n",
        "\n",
        "try:\n",
        "    divide(10,0)\n",
        "except Exception as e:\n",
        "    logging.error(f\"The error is occured {e}\")\n",
        "    print(f\"The error is : {e}\")\n",
        "print(\"The program is executed sucessfully\")"
      ],
      "metadata": {
        "colab": {
          "base_uri": "https://localhost:8080/"
        },
        "id": "SH_YJ8ndOcF4",
        "outputId": "8c27e497-ff6b-4cad-e99f-528b60f1d022"
      },
      "execution_count": 2,
      "outputs": [
        {
          "output_type": "stream",
          "name": "stderr",
          "text": [
            "ERROR:root:The number is not divisible by zero : division by zero\n"
          ]
        },
        {
          "output_type": "stream",
          "name": "stdout",
          "text": [
            "The program is executed sucessfully\n"
          ]
        }
      ]
    },
    {
      "cell_type": "markdown",
      "source": [
        "7.  How do you log information at different levels (INFO, ERROR, WARNING) in Python using the logging module?"
      ],
      "metadata": {
        "id": "uc2QpWXqScuM"
      }
    },
    {
      "cell_type": "code",
      "source": [
        "import logging\n",
        "logging.basicConfig(filename = \"loggingexample.log\",level = logging.DEBUG,format = \"%(asctime)s::%(levelname)s::%(message)s\")\n",
        "\n",
        "logging.debug(\"this is a debug message\")\n",
        "logging.info(\"This is an info message\")\n",
        "logging.warning(\"This is an warning message\")\n",
        "logging.error(\"This an error message\")\n",
        "logging.critical(\"This a critical message\")"
      ],
      "metadata": {
        "colab": {
          "base_uri": "https://localhost:8080/"
        },
        "id": "ftn_pi-clR_o",
        "outputId": "d1303ad9-c0cf-4f36-ecb2-77840ba63217"
      },
      "execution_count": 9,
      "outputs": [
        {
          "output_type": "stream",
          "name": "stderr",
          "text": [
            "WARNING:root:This is an warning message\n",
            "ERROR:root:This an error message\n",
            "CRITICAL:root:This a critical message\n"
          ]
        }
      ]
    },
    {
      "cell_type": "markdown",
      "source": [
        "8. Write a program to handle a file opening error using exception handling ?"
      ],
      "metadata": {
        "id": "fuGyIzU9nHjS"
      }
    },
    {
      "cell_type": "code",
      "source": [
        "try:\n",
        "  file = open(\"non-exesitent_file.txt\",\"r\")\n",
        "  file.read()\n",
        "except FileNotFoundError as e:\n",
        "  print(f\"Error:Something unexpected occured : {e}\")"
      ],
      "metadata": {
        "colab": {
          "base_uri": "https://localhost:8080/"
        },
        "id": "PiKB1EKEnYMw",
        "outputId": "2ab81aea-cbbe-4fc5-d0b6-335d58cf8d9d"
      },
      "execution_count": 8,
      "outputs": [
        {
          "output_type": "stream",
          "name": "stdout",
          "text": [
            "Error:Something unexpected occured : [Errno 2] No such file or directory: 'non-exesitent_file.txt'\n"
          ]
        }
      ]
    },
    {
      "cell_type": "markdown",
      "source": [
        " 9. How can you read a file line by line and store its content in a list in Python?"
      ],
      "metadata": {
        "id": "arHly2cmowt0"
      }
    },
    {
      "cell_type": "code",
      "source": [
        "with open(\"source.txt\",\"w\") as file:\n",
        "  file.write(\"This is the first line in file handling\\n\")\n",
        "  file.write(\"This is the second line in file handling\\n\")\n",
        "  file.write(\"This is the thrid line in file handling\\n\")\n",
        "\n",
        "lines = []\n",
        "with open(\"source.txt\",\"r\") as file:\n",
        "\n",
        "    for line in file:\n",
        "      lines.append(line.strip())\n",
        "print(lines)\n"
      ],
      "metadata": {
        "colab": {
          "base_uri": "https://localhost:8080/"
        },
        "id": "79WgTwprqXqZ",
        "outputId": "af04900c-898f-40d9-ed25-04d490d5e91d"
      },
      "execution_count": 17,
      "outputs": [
        {
          "output_type": "stream",
          "name": "stdout",
          "text": [
            "['This is the first line in file handling', 'This is the second line in file handling', 'This is the thrid line in file handling']\n"
          ]
        }
      ]
    },
    {
      "cell_type": "markdown",
      "source": [
        "10. How can you append data to an existing file in Python?"
      ],
      "metadata": {
        "id": "gUJT_tntrgnv"
      }
    },
    {
      "cell_type": "code",
      "source": [
        "file = open(\"source.txt\",\"w\")\n",
        "file.write(\"This is the first line in file handling\\n\")\n",
        "file.write(\"This is the second line in file handling\\n\")\n",
        "file.write(\"This is the thrid line in file handling\\n\")\n",
        "file.close()\n",
        "\n",
        "file = open(\"source.txt\",\"a\")\n",
        "file.write(\"This is the forth line in file handling\")\n",
        "file.close()\n",
        "\n",
        "file = open(\"source.txt\",\"r\")\n",
        "file.read()"
      ],
      "metadata": {
        "colab": {
          "base_uri": "https://localhost:8080/",
          "height": 36
        },
        "id": "2velToR9roLr",
        "outputId": "58d00198-da9c-45c1-cc14-67280d452b74"
      },
      "execution_count": 19,
      "outputs": [
        {
          "output_type": "execute_result",
          "data": {
            "text/plain": [
              "'This is the first line in file handling\\nThis is the second line in file handling\\nThis is the thrid line in file handling\\nThis is the forth line in file handling'"
            ],
            "application/vnd.google.colaboratory.intrinsic+json": {
              "type": "string"
            }
          },
          "metadata": {},
          "execution_count": 19
        }
      ]
    },
    {
      "cell_type": "markdown",
      "source": [
        "11. Write a Python program that uses a try-except block to handle an error when attempting to access a\n",
        "dictionary key that doesn't exist?"
      ],
      "metadata": {
        "id": "GF0wmuMUtAdK"
      }
    },
    {
      "cell_type": "code",
      "source": [
        "try:\n",
        "  dic = {\"name\":\"Adrije Tribedi\",\"age\":19}\n",
        "  dic[\"resident\"]\n",
        "  print(dic)\n",
        "except KeyError as e:\n",
        "  print(f\"This is the dictionary key error : {e}\")"
      ],
      "metadata": {
        "colab": {
          "base_uri": "https://localhost:8080/"
        },
        "id": "FwFJcAFOtN6E",
        "outputId": "e560243e-e07b-48e8-d731-4d72dc0b6de5"
      },
      "execution_count": 25,
      "outputs": [
        {
          "output_type": "stream",
          "name": "stdout",
          "text": [
            "This is the dictionary key error : 'resident'\n"
          ]
        }
      ]
    },
    {
      "cell_type": "markdown",
      "source": [
        "12.  Write a program that demonstrates using multiple except blocks to handle different types of exceptions?"
      ],
      "metadata": {
        "id": "431G1Z6buV9E"
      }
    },
    {
      "cell_type": "code",
      "source": [
        "try:\n",
        "  10/0\n",
        "except (ZeroDivisionError,ValueError,Exception) as e:\n",
        "  print(f\"The error the occured is {e}\")"
      ],
      "metadata": {
        "colab": {
          "base_uri": "https://localhost:8080/"
        },
        "id": "K9vBAvRCugy9",
        "outputId": "0ef71bc5-e2d8-4c68-b1aa-bb05f1b784cb"
      },
      "execution_count": 26,
      "outputs": [
        {
          "output_type": "stream",
          "name": "stdout",
          "text": [
            "The error the occured is division by zero\n"
          ]
        }
      ]
    },
    {
      "cell_type": "code",
      "source": [
        "#or\n",
        "\n",
        "try:\n",
        "  10/\"some string\"\n",
        "except ZeroDivisionError as e:\n",
        "  print(f\"The error is from zerodivisionerror : {e}\")\n",
        "except TypeError as e:\n",
        "  print(f\"This error is from typeerror : {e}\" )\n",
        "except Exception as e:\n",
        "  print(f'This error is from exception : {e}')"
      ],
      "metadata": {
        "colab": {
          "base_uri": "https://localhost:8080/"
        },
        "id": "kHwtBh5cvD-v",
        "outputId": "502feed5-f594-4fef-b846-923415fc53b2"
      },
      "execution_count": 27,
      "outputs": [
        {
          "output_type": "stream",
          "name": "stdout",
          "text": [
            "This error is from typeerror : unsupported operand type(s) for /: 'int' and 'str'\n"
          ]
        }
      ]
    },
    {
      "cell_type": "markdown",
      "source": [
        "13.  How would you check if a file exists before attempting to read it in Python?"
      ],
      "metadata": {
        "id": "sLHdlkaGv2uv"
      }
    },
    {
      "cell_type": "markdown",
      "source": [
        "For attempting a file to read we can check its existence by writing a code file.closed() if it gives true then the file is existing and if vise versa for false."
      ],
      "metadata": {
        "id": "yP85v49ywHae"
      }
    },
    {
      "cell_type": "code",
      "source": [
        "file = open(\"file5.txt\",\"w\")\n",
        "file.write(\"Checking the files existence\")\n",
        "file.close()\n",
        "\n",
        "file.closed"
      ],
      "metadata": {
        "colab": {
          "base_uri": "https://localhost:8080/"
        },
        "id": "PEKJCGBOxIwB",
        "outputId": "d435bede-2473-4b9e-c052-6366f459f21d"
      },
      "execution_count": 29,
      "outputs": [
        {
          "output_type": "execute_result",
          "data": {
            "text/plain": [
              "True"
            ]
          },
          "metadata": {},
          "execution_count": 29
        }
      ]
    },
    {
      "cell_type": "markdown",
      "source": [
        "14.  Write a program that uses the logging module to log both informational and error messages?"
      ],
      "metadata": {
        "id": "s3gyLqSnxs_L"
      }
    },
    {
      "cell_type": "code",
      "source": [
        "import logging\n",
        "logging.basicConfig(filename = \"log_example.log\",level = logging.INFO,,format = \"%(asctime)s::%(levelname)s::%(message)s\")\n",
        "\n",
        "logging.info(\"This is an informational message\")\n",
        "\n",
        "try:\n",
        "  10/0\n",
        "except ZeroDivisionError as e:\n",
        "  logging.error(f\"The error message is {e}\")\n",
        "\n",
        "logging.info(\"The program had finished its execution\")"
      ],
      "metadata": {
        "colab": {
          "base_uri": "https://localhost:8080/"
        },
        "id": "Xfzs6mdAx7Vy",
        "outputId": "c25f52bd-7475-400a-d1d5-3269772b9d6d"
      },
      "execution_count": 31,
      "outputs": [
        {
          "output_type": "stream",
          "name": "stderr",
          "text": [
            "ERROR:root:The error message is division by zero\n"
          ]
        }
      ]
    },
    {
      "cell_type": "markdown",
      "source": [
        "15. Write a Python program that prints the content of a file and handles the case when the file is empty?"
      ],
      "metadata": {
        "id": "pMvZuq8Zz03v"
      }
    },
    {
      "cell_type": "code",
      "source": [
        "file = \"file_test1.txt\"\n",
        "with open(file,\"w\") as f1:\n",
        "  f1.write(\"This is the first line in file handling\\n\")\n",
        "  f1.write(\"This is the second line in file handling\\n\")\n",
        "  f1.write(\"This is the thrid line in file handling\\n\")\n",
        "\n",
        "try:\n",
        "  with open(file,\"r\") as f2:\n",
        "    content = f2.read()\n",
        "    if content:\n",
        "      print(content)\n",
        "    else:\n",
        "      print(\"The file is empty\")\n",
        "except FileNotFoundError as e:\n",
        "  print(f\"ERROR:No such file occured : {e}\")\n",
        "\n"
      ],
      "metadata": {
        "colab": {
          "base_uri": "https://localhost:8080/"
        },
        "id": "p9l_CuA94ELp",
        "outputId": "955acc5f-4fcc-4772-b21b-2c27d2faa284"
      },
      "execution_count": 37,
      "outputs": [
        {
          "output_type": "stream",
          "name": "stdout",
          "text": [
            "This is the first line in file handling\n",
            "This is the second line in file handling\n",
            "This is the thrid line in file handling\n",
            "\n"
          ]
        }
      ]
    },
    {
      "cell_type": "code",
      "source": [
        "filename = \"file_test.txt\"\n",
        "\n",
        "try:\n",
        "    with open(filename,\"r\") as f:\n",
        "     content = f.read()\n",
        "     if content:\n",
        "      print(content)\n",
        "     else:\n",
        "       print(\"The file is empty\")\n",
        "except FileNotFoundError as e:\n",
        "  print(f\"ERROR : The file not exist : {e}\")"
      ],
      "metadata": {
        "colab": {
          "base_uri": "https://localhost:8080/"
        },
        "id": "GA1sVKLE0Eqz",
        "outputId": "52138963-a52c-4634-bbb8-f6012f3fcc51"
      },
      "execution_count": 36,
      "outputs": [
        {
          "output_type": "stream",
          "name": "stdout",
          "text": [
            "ERROR : The file not exist : [Errno 2] No such file or directory: 'file_test.txt'\n"
          ]
        }
      ]
    },
    {
      "cell_type": "markdown",
      "source": [
        "16. Demonstrate how to use memory profiling to check the memory usage of a small program?"
      ],
      "metadata": {
        "id": "YJhILebP5tEB"
      }
    },
    {
      "cell_type": "markdown",
      "source": [
        "17.  Write a Python program to create and write a list of numbers to a file, one number per line?"
      ],
      "metadata": {
        "id": "GkermYR67edF"
      }
    },
    {
      "cell_type": "code",
      "source": [
        "numbers = [1,2,3,4,5,6,7,8]\n",
        "\n",
        "with open(\"numbers.txt\",\"w\") as f:\n",
        "  for num in numbers:\n",
        "    f.write(f\"{num}\\n\")\n",
        "\n",
        "print(\"Number has written in numbers.txt file\")"
      ],
      "metadata": {
        "colab": {
          "base_uri": "https://localhost:8080/"
        },
        "id": "BZlBjgua8BIY",
        "outputId": "a180def5-362e-4ab1-cdf6-ae14d01ac11c"
      },
      "execution_count": 39,
      "outputs": [
        {
          "output_type": "stream",
          "name": "stdout",
          "text": [
            "Number has written in numbers.txt file\n"
          ]
        }
      ]
    },
    {
      "cell_type": "markdown",
      "source": [
        "18.  How would you implement a basic logging setup that logs to a file with rotation after 1MB?"
      ],
      "metadata": {
        "id": "8cXrpchV9oek"
      }
    },
    {
      "cell_type": "code",
      "source": [
        "import logging\n",
        "\n",
        "from logging.handlers import RotatingFileHandler\n",
        "\n",
        "Handeler = RotatingFileHandler(\"myapp.log\",maxBytes = 1000000,backupCount = 3)\n",
        "Formatter = logging.Formatter(\"%(asctime)s::%(levelname)s::%(message)s\")\n",
        "Handeler.setFormatter(Formatter)\n",
        "\n",
        "logger = logging.getLogger()\n",
        "logger.setLevel(logging.INFO)\n",
        "logger.addHandler(Handeler)\n",
        "\n",
        "logging.info(\"This is an info message\")\n",
        "logging.warning(\"This is a warning message\")\n",
        "logging.error(\"This an error message\")"
      ],
      "metadata": {
        "colab": {
          "base_uri": "https://localhost:8080/"
        },
        "id": "OvZzIx3LJ-zk",
        "outputId": "db911c96-b866-41cd-8564-bc266afc9779"
      },
      "execution_count": 45,
      "outputs": [
        {
          "output_type": "stream",
          "name": "stderr",
          "text": [
            "INFO:root:This is an info message\n",
            "WARNING:root:This is a warning message\n",
            "ERROR:root:This an error message\n"
          ]
        }
      ]
    },
    {
      "cell_type": "markdown",
      "source": [
        "19.  Write a program that handles both IndexError and KeyError using a try-except block?"
      ],
      "metadata": {
        "id": "H7m90bXWGXV-"
      }
    },
    {
      "cell_type": "code",
      "source": [
        "try:\n",
        "  l = [1,2,3,4]\n",
        "  l[5]\n",
        "except (IndexError,KeyError) as e:\n",
        "  print(f\"An error generated in the program : {e}\")"
      ],
      "metadata": {
        "colab": {
          "base_uri": "https://localhost:8080/"
        },
        "id": "FalXVY7pGkzu",
        "outputId": "a272517e-1051-45ac-be9b-8739e9db1e04"
      },
      "execution_count": 41,
      "outputs": [
        {
          "output_type": "stream",
          "name": "stdout",
          "text": [
            "An error generated in the program : list index out of range\n"
          ]
        }
      ]
    },
    {
      "cell_type": "code",
      "source": [
        "try:\n",
        "  dictionary = {\"name\":\"Adrije Tribedi\",\"age\":19}\n",
        "  dictionary[\"resident\"]\n",
        "except (IndexError,KeyError) as e:\n",
        "  print(f\"An error generated in the program : {e}\")"
      ],
      "metadata": {
        "colab": {
          "base_uri": "https://localhost:8080/"
        },
        "outputId": "395db296-b8e9-470b-8178-623caf287532",
        "id": "Y3dIVuvvHoHG"
      },
      "execution_count": 42,
      "outputs": [
        {
          "output_type": "stream",
          "name": "stdout",
          "text": [
            "An error generated in the program : 'resident'\n"
          ]
        }
      ]
    },
    {
      "cell_type": "markdown",
      "source": [
        "20.  How would you open a file and read its contents using a context manager in Python?"
      ],
      "metadata": {
        "id": "2FqVSdn3H-6A"
      }
    },
    {
      "cell_type": "code",
      "source": [
        "file = \"file_test1.txt\"\n",
        "with open(file,\"w\") as f1:\n",
        "  f1.write(\"This is the first line in file handling\\n\")\n",
        "  f1.write(\"This is the second line in file handling\\n\")\n",
        "  f1.write(\"This is the thrid line in file handling\\n\")\n",
        "\n",
        "with open(file,\"r\") as f2:\n",
        "  content = f2.read()\n",
        "\n",
        "print(content)"
      ],
      "metadata": {
        "colab": {
          "base_uri": "https://localhost:8080/"
        },
        "id": "cffQv5q0I4Gm",
        "outputId": "545a0cc7-b642-4658-f541-61cf0543b0c9"
      },
      "execution_count": 46,
      "outputs": [
        {
          "output_type": "stream",
          "name": "stdout",
          "text": [
            "This is the first line in file handling\n",
            "This is the second line in file handling\n",
            "This is the thrid line in file handling\n",
            "\n"
          ]
        }
      ]
    },
    {
      "cell_type": "markdown",
      "source": [
        "21.  Write a Python program that reads a file and prints the number of occurrences of a specific word."
      ],
      "metadata": {
        "id": "_4HM_abdKmts"
      }
    },
    {
      "cell_type": "code",
      "source": [
        "file = \"file_test1.txt\"\n",
        "with open(file,\"w\") as f1:\n",
        "  f1.write(\"This is the first line in file handling\\n\")\n",
        "  f1.write(\"This is the second line in file handling\\n\")\n",
        "  f1.write(\"This is the thrid line in file handling\\n\")\n",
        "\n",
        "with open(file,\"r\") as f2:\n",
        "  print(f2.readline(23))"
      ],
      "metadata": {
        "colab": {
          "base_uri": "https://localhost:8080/"
        },
        "id": "qWH6_0UNK58l",
        "outputId": "6ea9c88c-7a49-4d72-885d-bedd4fef7095"
      },
      "execution_count": 56,
      "outputs": [
        {
          "output_type": "stream",
          "name": "stdout",
          "text": [
            "This is the first line \n"
          ]
        }
      ]
    },
    {
      "cell_type": "markdown",
      "source": [
        "22. How can you check if a file is empty before attempting to read its contents?"
      ],
      "metadata": {
        "id": "FiM7thDLMTGe"
      }
    },
    {
      "cell_type": "code",
      "source": [
        "import os\n",
        "\n",
        "filename = \"file_test1.txt\"\n",
        "with open(filename,\"w\") as f1:\n",
        "  f1.write(\"This is the first line in file handling\\n\")\n",
        "  f1.write(\"This is the second line in file handling\\n\")\n",
        "  f1.write(\"This is the thrid line in file handling\\n\")\n",
        "\n",
        "if os.path.getsize(filename) == 0:\n",
        "  print(\"The file is empty\")\n",
        "\n",
        "else:\n",
        "  with open(filename,\"r\") as file:\n",
        "    content = file.read()\n",
        "    print(content)"
      ],
      "metadata": {
        "colab": {
          "base_uri": "https://localhost:8080/"
        },
        "id": "O0YY2pZ9MoV1",
        "outputId": "bf08987e-73a0-4a59-f9c8-6f1453314aab"
      },
      "execution_count": 58,
      "outputs": [
        {
          "output_type": "stream",
          "name": "stdout",
          "text": [
            "This is the first line in file handling\n",
            "This is the second line in file handling\n",
            "This is the thrid line in file handling\n",
            "\n"
          ]
        }
      ]
    },
    {
      "cell_type": "code",
      "source": [
        "import os\n",
        "\n",
        "filename = \"file_test1.txt\"\n",
        "with open(filename,\"w\") as f1:\n",
        "  pass\n",
        "\n",
        "if os.path.getsize(filename) == 0:\n",
        "  print(\"The file is empty\")\n",
        "\n",
        "else:\n",
        "  with open(filename,\"r\") as file:\n",
        "    content = file.read()\n",
        "    print(content)"
      ],
      "metadata": {
        "colab": {
          "base_uri": "https://localhost:8080/"
        },
        "outputId": "ff13a5b7-84e7-48aa-cbe4-75c5e68ae34f",
        "id": "Z67CutU5OoMD"
      },
      "execution_count": 59,
      "outputs": [
        {
          "output_type": "stream",
          "name": "stdout",
          "text": [
            "The file is empty\n"
          ]
        }
      ]
    },
    {
      "cell_type": "markdown",
      "source": [
        "23. Write a Python program that writes to a log file when an error occurs during file handling.?"
      ],
      "metadata": {
        "id": "6EEPvEC0PTg3"
      }
    },
    {
      "cell_type": "code",
      "source": [
        "import logging\n",
        "\n",
        "logging.basicConfig(filename = \"error.log\",level = logging.ERROR, format = \"%(asctime)s::%(levelname)s::%(message)s\")\n",
        "\n",
        "filename = \"somefile.txt\"\n",
        "try:\n",
        "  with open(filename,\"r\") as file:\n",
        "    content = file.read()\n",
        "except FileNotFoundError as e:\n",
        "  logging.error(f\"The error is file related : {e}\")\n",
        "print(\"The program has executed sucessfully\")\n"
      ],
      "metadata": {
        "colab": {
          "base_uri": "https://localhost:8080/"
        },
        "id": "gH1-s_tEPgN_",
        "outputId": "6e1d0542-344e-4393-dfe8-a4c30a244172"
      },
      "execution_count": 60,
      "outputs": [
        {
          "output_type": "stream",
          "name": "stderr",
          "text": [
            "ERROR:root:The error is file related : [Errno 2] No such file or directory: 'somefile.txt'\n"
          ]
        },
        {
          "output_type": "stream",
          "name": "stdout",
          "text": [
            "The program has executed sucessfully\n"
          ]
        }
      ]
    }
  ]
}